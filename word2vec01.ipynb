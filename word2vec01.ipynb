{
 "cells": [
  {
   "cell_type": "code",
   "execution_count": 1,
   "metadata": {},
   "outputs": [],
   "source": [
    "import nltk\n",
    "from gensim.models import Word2Vec\n",
    "from gensim.models import KeyedVectors\n",
    "from nltk.corpus import stopwords\n",
    "import re"
   ]
  },
  {
   "cell_type": "code",
   "execution_count": 2,
   "metadata": {},
   "outputs": [],
   "source": [
    "paragraph = \"\"\"Most of us know that the Hindu epic Mahabharat is replete with many interesting anecdotes that teach us many rare life lessons. Let us recall one such anecdote involving the lives of Guru Dronacharya and King Drupada.\n",
    "\n",
    "Dronacharya and Drupada were disciples in the same Gurukul. Over a period of time, both of them became good friends. Drupada was the only heir to his royal family, and that way, a future king. Dronacharya, on the other hand, was the son of a saint named Bharadwaja, a poor Brahmin by birth. He was therefore worried about his future even though he was skilled in all fronts – academic, warfare, sports, and others. He was an exceptional warrior of that era even though he was a Brahmin, not a Kshatriya who were known to be good at war skills. Drupada, however, was not so skilled; so, he used to seek Dronacharya’s help in all his tasks during their entire tenure in the Gurukul.\n",
    "\n",
    "One day, it struck to Drupada’s mind that he must express his gratitude to Dronacharya for all his timely help in the tasks he was given at the Gurukul. So, he called on Dronacharya and pledged before him that he would love to help him unconditionally in the time of his need. He also asked Dronacharya to feel free to seek any kind of help whenever there is a need.\n",
    "\n",
    "Many days passed, and when the time came for both of them to leave the Gurukul after completion of their formal studies, Drupada promised Dronacharya to offer him half of the kingdom, which he would rule over, to alleviate his poverty. Dronacharya was too self-respecting an individual to accept such an offer. He expressed sincere thanks to Drupada for that gesture. He also expressed that he would not hesitate to seek Drupada’s help when there is an absolute need. Thus, they departed.\n",
    "\n",
    "Time and milieu changed with the changing cosmos. With them were forgotten many a promise and many a pledge. Drupada became the King of Panchala. His growing power and the ensuing prestige boosted his ego, thus converting him to a different person than the one who was Dronacharya’s friend at the Gurukul.\n",
    "\n",
    "On the other hand, the lady luck did not smile at Dronacharya for quite long. He was still languishing in poverty. By that time, he had married Krupi, the twin sister of Krupacharya, and had become the proud father of Ashwatthama. However, he had to struggle hard to make both ends meet. On one occasion, when Ashwatthama was being ridiculed by a bunch of his friends, Dronacharya overheard their conversation. The basis of the ridicule was that Dronacharya was not able to afford milk for Ashwatthama, and therefore, Ashwatthama was tricked to believe a beverage made with rice powder as milk. That incident saddened the poor father in Dronacharya and he was not at peace with himself. Over a deep thought, he was reminded of his last meeting with Drupada and his promise. Then, he decided to meet Drupada and beg a few cows to nurture them.\n",
    "\n",
    "As Dronacharya reached King Drupada’s palace, the gatekeepers were stunned to see him. They did not allow him in, because of his poor attire and dejected look. He was ridiculed more when he called King Drupada as his childhood friend. Despite all that, Dronacharya was hell-bent on meeting the King. That compelled the gatekeepers to pass on his message to the King. King Drupada allowed him entry into his court but did not identify him as his childhood friend. He mocked Dronacharya by saying, “How a rich King and a poor Brahmin be friends?” He ordered the court to present him a few cows as a royal favour and send him back. Pissed off with such unexpected, irrational behaviour of a childhood friend, who once promised to offer him half of his kingdom, Dronacharya returned empty-handed. He cursed his fate and took a promise to take revenge on Drupada at a suitable time later.\n",
    "\n",
    "The vengeful Drona, leaving aside his interest in the Brahminic studies, made up his mind to teach war skills to the Kshatriyas. His brother-in-law Krupacharya referred his name before Bhishma to train the Kuru Dynasty in war skills. Bhishma took a tough test before offering Dronacharya the new responsibility.\n",
    "\n",
    "As time passed by, Dronacharya discovered the latent talent of Arjuna, among all others, and trained him meticulously. Thus, Arjuna came up as an undisputed warrior. At the end of the formal training, when the disciples asked Dronacharya about his Guru Dakshina (return gift to the Guru), he desired them to defeat King Drupada in direct war and bring the defeated King to him.\n",
    "\n",
    "The Kouravas led by Duryodhana were highly ambitious and boastful. So, they jumped the gun and hurriedly raised a war against the Panchala kingdom and were defeated. Duryodhana was taken as a prisoner. Then, the Pandavas reiterated the war against Drupada, to honour their Guru’s wishes and to free Duryodhana as well.\n",
    "\n",
    "As expected, Arjuna, after a fierce fight, won the war and brought the defeated King Drupada before Dronacharya. Dronacharya blessed Arjuna for his bravery. He then reminded Drupada about their Gurukul days of friendship and his false promise, allowing him to relish his shameful defeat. Drupada was ashamed of his ruthless behaviour. He repented and asked Dronacharya to forgive. Dronacharya was humane enough to listen to his appeal, and forgave Drupada, then and there. But as per Drupada’s promise made earlier, he took away half of the Panchala kingdom and made Ashwatthama the king of that. He returned the other half to Drupada.\n",
    "\n",
    "The helpless King Drupada pretended to be friendly at that time. But in his heart of hearts, he pledged again to take revenge on Dronacharya for that offence. He came back and arranged to offer prayers to the Almighty seeking divine favor to punish Dronacharya. He performed yajnas, aspiring to father a child who could help him make friendship with Arjuna, be the cause of Dronacharya’s death, and wipe away the Kuru Dynasty forever, directly or indirectly.\n",
    "\n",
    "King Drupada’s prayers were heard, and he was blessed with a son Dhrushtadyumna, who later killed Dronacharya in the Mahabharata war, and a daughter Draupadi who married Arjuna, thus helping his father make friendship with him, and was the sole indirect reason for the end of Kuru Dynasty.\"\"\""
   ]
  },
  {
   "cell_type": "code",
   "execution_count": 3,
   "metadata": {},
   "outputs": [],
   "source": [
    "# Preprocessing the data\n",
    "text = re.sub(r'\\[[0-9]*\\]',' ',paragraph)\n",
    "text = re.sub(r'\\s+',' ',text)\n",
    "text = text.lower()\n",
    "text = re.sub(r'\\d',' ',text)\n",
    "text = re.sub(r'\\s+',' ',text)\n",
    "\n",
    "# Preparing the dataset\n",
    "sentences = nltk.sent_tokenize(text)\n",
    "\n",
    "sentences = [nltk.word_tokenize(sentence) for sentence in sentences]\n",
    "\n",
    "for i in range(len(sentences)):\n",
    "    sentences[i] = [word for word in sentences[i] if word not in stopwords.words('english')]"
   ]
  },
  {
   "cell_type": "code",
   "execution_count": 4,
   "metadata": {},
   "outputs": [
    {
     "name": "stdout",
     "output_type": "stream",
     "text": [
      "[ 7.9276403e-03 -4.2194603e-03 -1.0040926e-03  1.1342884e-03\n",
      " -1.9482784e-04  6.8439182e-04  6.2390952e-03  6.5264176e-04\n",
      " -3.5858995e-03 -1.6497581e-03  5.8468203e-03  1.1467355e-03\n",
      " -8.5000583e-04  9.3519036e-03 -4.7387420e-03 -1.0740346e-03\n",
      "  9.2820060e-03  6.4229122e-03  1.4003516e-03 -9.5642684e-03\n",
      "  1.3633497e-03 -1.9826202e-03  9.4882241e-03  1.2180683e-03\n",
      "  1.1854564e-03  2.3355954e-03 -2.0870364e-03 -5.1573720e-03\n",
      " -2.2317098e-04 -1.8777899e-03  6.7375083e-03  9.0002380e-03\n",
      " -4.4406328e-04  2.8103048e-03 -6.3674245e-03  2.1994768e-03\n",
      " -6.8787159e-03 -9.0153599e-03 -6.1090654e-03 -9.5794862e-03\n",
      "  7.2655641e-03 -6.1554993e-03  8.0744522e-03 -7.2019161e-03\n",
      "  3.6844399e-03  9.5116319e-03 -8.0652842e-03 -1.0022457e-02\n",
      " -4.2030816e-03 -2.5347639e-03 -9.5236283e-06 -9.1188513e-03\n",
      " -8.5438639e-03  2.8107262e-03 -8.3507225e-03 -8.9281229e-03\n",
      " -2.3763368e-03 -8.9436928e-03 -7.4677514e-03 -8.2490193e-03\n",
      " -3.5460721e-04 -4.4444995e-03  6.7411298e-03  1.0799204e-03\n",
      " -3.9140275e-03  6.2173028e-03 -5.7931226e-03 -4.2505646e-03\n",
      " -7.7372845e-03 -4.0303231e-03 -2.0361829e-03  6.5941648e-03\n",
      " -2.5782944e-03  4.8720092e-03  7.1340301e-03 -7.1329288e-03\n",
      "  4.7573140e-03  6.0636359e-03 -3.2869612e-03  6.6297874e-03\n",
      "  6.0708979e-03 -6.5440224e-03 -7.1033053e-03  2.9476197e-03\n",
      " -1.9463361e-03 -6.0842996e-03  9.4038974e-03 -4.8934896e-03\n",
      " -6.1908416e-03 -8.5598236e-05 -2.1098556e-03  6.4770924e-04\n",
      " -3.6005513e-03 -3.7638345e-04 -3.1629085e-04  1.2396523e-03\n",
      "  8.3449511e-03 -6.1439746e-03 -1.3348437e-03  5.3483876e-03]\n",
      "[('pissed', 0.3221780061721802), ('milk', 0.2762138247489929), ('ashwatthama', 0.26045140624046326), ('cause', 0.25052136182785034), ('fierce', 0.22430089116096497), ('saint', 0.2242494523525238), ('fate', 0.21913963556289673), ('leaving', 0.21636509895324707), ('childhood', 0.21636033058166504), ('train', 0.21284152567386627)]\n"
     ]
    }
   ],
   "source": [
    "# Training the Word2Vec model\n",
    "model = Word2Vec(sentences, min_count=1)\n",
    "\n",
    "words = list(model.wv.index_to_key)\n",
    "\n",
    "#words = model.wv.vocab\n",
    "\n",
    "# Finding Word Vectors\n",
    "vector = model.wv[\"war\"]\n",
    "print(vector)\n",
    "\n",
    "# Most similar words\n",
    "similar = model.wv.most_similar(\"king\")\n",
    "print(similar)"
   ]
  },
  {
   "cell_type": "code",
   "execution_count": null,
   "metadata": {},
   "outputs": [],
   "source": []
  },
  {
   "cell_type": "code",
   "execution_count": null,
   "metadata": {},
   "outputs": [],
   "source": []
  },
  {
   "cell_type": "code",
   "execution_count": null,
   "metadata": {},
   "outputs": [],
   "source": []
  }
 ],
 "metadata": {
  "kernelspec": {
   "display_name": "Python 3",
   "language": "python",
   "name": "python3"
  },
  "language_info": {
   "codemirror_mode": {
    "name": "ipython",
    "version": 3
   },
   "file_extension": ".py",
   "mimetype": "text/x-python",
   "name": "python",
   "nbconvert_exporter": "python",
   "pygments_lexer": "ipython3",
   "version": "3.8.3"
  }
 },
 "nbformat": 4,
 "nbformat_minor": 4
}
