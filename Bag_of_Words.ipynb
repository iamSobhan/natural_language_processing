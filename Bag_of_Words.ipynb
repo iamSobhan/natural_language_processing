{
 "cells": [
  {
   "cell_type": "code",
   "execution_count": 1,
   "metadata": {},
   "outputs": [
    {
     "name": "stderr",
     "output_type": "stream",
     "text": [
      "C:\\Users\\Sobhan\\anaconda3\\lib\\site-packages\\pandas\\core\\computation\\expressions.py:20: UserWarning: Pandas requires version '2.7.3' or newer of 'numexpr' (version '2.7.1' currently installed).\n",
      "  from pandas.core.computation.check import NUMEXPR_INSTALLED\n"
     ]
    }
   ],
   "source": [
    "import pandas as pd\n",
    "import numpy as np\n",
    "from sklearn.model_selection import train_test_split\n",
    "from sklearn.metrics import classification_report"
   ]
  },
  {
   "cell_type": "code",
   "execution_count": 2,
   "metadata": {},
   "outputs": [],
   "source": [
    "mail = pd.read_csv(\"C:/Users/Sobhan/Machine Learning/NLP/bag_of_words/spam_mail.csv\")"
   ]
  },
  {
   "cell_type": "code",
   "execution_count": 3,
   "metadata": {},
   "outputs": [
    {
     "data": {
      "text/html": [
       "<div>\n",
       "<style scoped>\n",
       "    .dataframe tbody tr th:only-of-type {\n",
       "        vertical-align: middle;\n",
       "    }\n",
       "\n",
       "    .dataframe tbody tr th {\n",
       "        vertical-align: top;\n",
       "    }\n",
       "\n",
       "    .dataframe thead th {\n",
       "        text-align: right;\n",
       "    }\n",
       "</style>\n",
       "<table border=\"1\" class=\"dataframe\">\n",
       "  <thead>\n",
       "    <tr style=\"text-align: right;\">\n",
       "      <th></th>\n",
       "      <th>Category</th>\n",
       "      <th>Message</th>\n",
       "    </tr>\n",
       "  </thead>\n",
       "  <tbody>\n",
       "    <tr>\n",
       "      <th>0</th>\n",
       "      <td>ham</td>\n",
       "      <td>Go until jurong point, crazy.. Available only ...</td>\n",
       "    </tr>\n",
       "    <tr>\n",
       "      <th>1</th>\n",
       "      <td>ham</td>\n",
       "      <td>Ok lar... Joking wif u oni...</td>\n",
       "    </tr>\n",
       "    <tr>\n",
       "      <th>2</th>\n",
       "      <td>spam</td>\n",
       "      <td>Free entry in 2 a wkly comp to win FA Cup fina...</td>\n",
       "    </tr>\n",
       "    <tr>\n",
       "      <th>3</th>\n",
       "      <td>ham</td>\n",
       "      <td>U dun say so early hor... U c already then say...</td>\n",
       "    </tr>\n",
       "    <tr>\n",
       "      <th>4</th>\n",
       "      <td>ham</td>\n",
       "      <td>Nah I don't think he goes to usf, he lives aro...</td>\n",
       "    </tr>\n",
       "  </tbody>\n",
       "</table>\n",
       "</div>"
      ],
      "text/plain": [
       "  Category                                            Message\n",
       "0      ham  Go until jurong point, crazy.. Available only ...\n",
       "1      ham                      Ok lar... Joking wif u oni...\n",
       "2     spam  Free entry in 2 a wkly comp to win FA Cup fina...\n",
       "3      ham  U dun say so early hor... U c already then say...\n",
       "4      ham  Nah I don't think he goes to usf, he lives aro..."
      ]
     },
     "execution_count": 3,
     "metadata": {},
     "output_type": "execute_result"
    }
   ],
   "source": [
    "mail.head()"
   ]
  },
  {
   "cell_type": "code",
   "execution_count": 4,
   "metadata": {},
   "outputs": [
    {
     "data": {
      "text/plain": [
       "ham     4825\n",
       "spam     747\n",
       "Name: Category, dtype: int64"
      ]
     },
     "execution_count": 4,
     "metadata": {},
     "output_type": "execute_result"
    }
   ],
   "source": [
    "mail.Category.value_counts()"
   ]
  },
  {
   "cell_type": "code",
   "execution_count": 5,
   "metadata": {},
   "outputs": [],
   "source": [
    "mail[\"spam\"] = mail[\"Category\"].apply(lambda x: 1 if x == \"spam\" else 0)"
   ]
  },
  {
   "cell_type": "code",
   "execution_count": 6,
   "metadata": {},
   "outputs": [
    {
     "data": {
      "text/html": [
       "<div>\n",
       "<style scoped>\n",
       "    .dataframe tbody tr th:only-of-type {\n",
       "        vertical-align: middle;\n",
       "    }\n",
       "\n",
       "    .dataframe tbody tr th {\n",
       "        vertical-align: top;\n",
       "    }\n",
       "\n",
       "    .dataframe thead th {\n",
       "        text-align: right;\n",
       "    }\n",
       "</style>\n",
       "<table border=\"1\" class=\"dataframe\">\n",
       "  <thead>\n",
       "    <tr style=\"text-align: right;\">\n",
       "      <th></th>\n",
       "      <th>Category</th>\n",
       "      <th>Message</th>\n",
       "      <th>spam</th>\n",
       "    </tr>\n",
       "  </thead>\n",
       "  <tbody>\n",
       "    <tr>\n",
       "      <th>0</th>\n",
       "      <td>ham</td>\n",
       "      <td>Go until jurong point, crazy.. Available only ...</td>\n",
       "      <td>0</td>\n",
       "    </tr>\n",
       "    <tr>\n",
       "      <th>1</th>\n",
       "      <td>ham</td>\n",
       "      <td>Ok lar... Joking wif u oni...</td>\n",
       "      <td>0</td>\n",
       "    </tr>\n",
       "    <tr>\n",
       "      <th>2</th>\n",
       "      <td>spam</td>\n",
       "      <td>Free entry in 2 a wkly comp to win FA Cup fina...</td>\n",
       "      <td>1</td>\n",
       "    </tr>\n",
       "    <tr>\n",
       "      <th>3</th>\n",
       "      <td>ham</td>\n",
       "      <td>U dun say so early hor... U c already then say...</td>\n",
       "      <td>0</td>\n",
       "    </tr>\n",
       "    <tr>\n",
       "      <th>4</th>\n",
       "      <td>ham</td>\n",
       "      <td>Nah I don't think he goes to usf, he lives aro...</td>\n",
       "      <td>0</td>\n",
       "    </tr>\n",
       "  </tbody>\n",
       "</table>\n",
       "</div>"
      ],
      "text/plain": [
       "  Category                                            Message  spam\n",
       "0      ham  Go until jurong point, crazy.. Available only ...     0\n",
       "1      ham                      Ok lar... Joking wif u oni...     0\n",
       "2     spam  Free entry in 2 a wkly comp to win FA Cup fina...     1\n",
       "3      ham  U dun say so early hor... U c already then say...     0\n",
       "4      ham  Nah I don't think he goes to usf, he lives aro...     0"
      ]
     },
     "execution_count": 6,
     "metadata": {},
     "output_type": "execute_result"
    }
   ],
   "source": [
    "mail.head()"
   ]
  },
  {
   "cell_type": "code",
   "execution_count": 7,
   "metadata": {},
   "outputs": [
    {
     "data": {
      "text/plain": [
       "(5572, 3)"
      ]
     },
     "execution_count": 7,
     "metadata": {},
     "output_type": "execute_result"
    }
   ],
   "source": [
    "mail.shape"
   ]
  },
  {
   "cell_type": "code",
   "execution_count": 8,
   "metadata": {},
   "outputs": [],
   "source": [
    "X_train, X_test, y_train, y_test = train_test_split(mail.Message, mail.spam, test_size = 0.2)"
   ]
  },
  {
   "cell_type": "code",
   "execution_count": 9,
   "metadata": {},
   "outputs": [
    {
     "data": {
      "text/plain": [
       "((4457,), (1115,))"
      ]
     },
     "execution_count": 9,
     "metadata": {},
     "output_type": "execute_result"
    }
   ],
   "source": [
    "X_train.shape, X_test.shape"
   ]
  },
  {
   "cell_type": "code",
   "execution_count": 10,
   "metadata": {},
   "outputs": [
    {
     "data": {
      "text/plain": [
       "pandas.core.series.Series"
      ]
     },
     "execution_count": 10,
     "metadata": {},
     "output_type": "execute_result"
    }
   ],
   "source": [
    "type(X_train)"
   ]
  },
  {
   "cell_type": "code",
   "execution_count": 11,
   "metadata": {},
   "outputs": [
    {
     "data": {
      "text/plain": [
       "2389    wiskey Brandy Rum Gin Beer Vodka Scotch Shampa...\n",
       "5199           Ugh my leg hurts. Musta overdid it on mon.\n",
       "3370    Sorry i've not gone to that place. I.ll do so ...\n",
       "4585    Noooooooo please. Last thing I need is stress....\n",
       "3564    Auction round 4. The highest bid is now £54. N...\n",
       "Name: Message, dtype: object"
      ]
     },
     "execution_count": 11,
     "metadata": {},
     "output_type": "execute_result"
    }
   ],
   "source": [
    "X_train[:5]"
   ]
  },
  {
   "cell_type": "code",
   "execution_count": 12,
   "metadata": {},
   "outputs": [
    {
     "data": {
      "text/plain": [
       "pandas.core.series.Series"
      ]
     },
     "execution_count": 12,
     "metadata": {},
     "output_type": "execute_result"
    }
   ],
   "source": [
    "type(y_train)"
   ]
  },
  {
   "cell_type": "code",
   "execution_count": 13,
   "metadata": {
    "scrolled": true
   },
   "outputs": [
    {
     "data": {
      "text/plain": [
       "2389    0\n",
       "5199    0\n",
       "3370    0\n",
       "4585    0\n",
       "3564    1\n",
       "Name: spam, dtype: int64"
      ]
     },
     "execution_count": 13,
     "metadata": {},
     "output_type": "execute_result"
    }
   ],
   "source": [
    "y_train[:5]"
   ]
  },
  {
   "cell_type": "code",
   "execution_count": 14,
   "metadata": {},
   "outputs": [
    {
     "data": {
      "text/plain": [
       "numpy.ndarray"
      ]
     },
     "execution_count": 14,
     "metadata": {},
     "output_type": "execute_result"
    }
   ],
   "source": [
    "type(X_train.values)"
   ]
  },
  {
   "cell_type": "markdown",
   "metadata": {},
   "source": [
    "<p>Bag Of words</p>"
   ]
  },
  {
   "cell_type": "code",
   "execution_count": 15,
   "metadata": {},
   "outputs": [],
   "source": [
    "from sklearn.feature_extraction.text import CountVectorizer"
   ]
  },
  {
   "cell_type": "code",
   "execution_count": 16,
   "metadata": {},
   "outputs": [],
   "source": [
    "cv = CountVectorizer()\n"
   ]
  },
  {
   "cell_type": "code",
   "execution_count": 17,
   "metadata": {},
   "outputs": [
    {
     "data": {
      "text/plain": [
       "<4457x7740 sparse matrix of type '<class 'numpy.int64'>'\n",
       "\twith 59067 stored elements in Compressed Sparse Row format>"
      ]
     },
     "execution_count": 17,
     "metadata": {},
     "output_type": "execute_result"
    }
   ],
   "source": [
    "X_train_cv = cv.fit_transform(X_train.values)\n",
    "X_train_cv"
   ]
  },
  {
   "cell_type": "code",
   "execution_count": 18,
   "metadata": {},
   "outputs": [
    {
     "data": {
      "text/plain": [
       "array([0, 0, 0, ..., 0, 0, 0], dtype=int64)"
      ]
     },
     "execution_count": 18,
     "metadata": {},
     "output_type": "execute_result"
    }
   ],
   "source": [
    "X_train_cv.toarray()[:2][0]"
   ]
  },
  {
   "cell_type": "code",
   "execution_count": 19,
   "metadata": {},
   "outputs": [
    {
     "data": {
      "text/plain": [
       "(4457, 7740)"
      ]
     },
     "execution_count": 19,
     "metadata": {},
     "output_type": "execute_result"
    }
   ],
   "source": [
    "X_train_cv.shape"
   ]
  },
  {
   "cell_type": "code",
   "execution_count": 20,
   "metadata": {},
   "outputs": [
    {
     "data": {
      "text/plain": [
       "{'wiskey': 7544,\n",
       " 'brandy': 1484,\n",
       " 'rum': 5854,\n",
       " 'gin': 3120,\n",
       " 'beer': 1292,\n",
       " 'vodka': 7313,\n",
       " 'scotch': 5957,\n",
       " 'shampain': 6069,\n",
       " 'wine': 7528,\n",
       " 'kudi': 3967,\n",
       " 'yarasu': 7669,\n",
       " 'dhina': 2275,\n",
       " 'vaazhthukkal': 7232,\n",
       " 'ugh': 7121,\n",
       " 'my': 4666,\n",
       " 'leg': 4056,\n",
       " 'hurts': 3552,\n",
       " 'musta': 4659,\n",
       " 'overdid': 5026,\n",
       " 'it': 3744,\n",
       " 'on': 4934,\n",
       " 'mon': 4560,\n",
       " 'sorry': 6335,\n",
       " 've': 7255,\n",
       " 'not': 4827,\n",
       " 'gone': 3160,\n",
       " 'to': 6942,\n",
       " 'that': 6814,\n",
       " 'place': 5227,\n",
       " 'll': 4148,\n",
       " 'do': 2357,\n",
       " 'so': 6285,\n",
       " 'tomorrow': 6967,\n",
       " 'really': 5606,\n",
       " 'noooooooo': 4811,\n",
       " 'please': 5249,\n",
       " 'last': 4010,\n",
       " 'thing': 6849,\n",
       " 'need': 4725,\n",
       " 'is': 3732,\n",
       " 'stress': 6521,\n",
       " 'for': 2924,\n",
       " 'once': 4937,\n",
       " 'in': 3627,\n",
       " 'your': 7707,\n",
       " 'life': 4090,\n",
       " 'be': 1268,\n",
       " 'fair': 2741,\n",
       " 'auction': 1134,\n",
       " 'round': 5827,\n",
       " 'the': 6818,\n",
       " 'highest': 3414,\n",
       " 'bid': 1346,\n",
       " 'now': 4838,\n",
       " '54': 556,\n",
       " 'next': 4764,\n",
       " 'maximum': 4385,\n",
       " '71': 613,\n",
       " 'send': 6017,\n",
       " 'bids': 1347,\n",
       " '10': 254,\n",
       " '83383': 669,\n",
       " 'good': 3164,\n",
       " 'luck': 4241,\n",
       " 'or': 4973,\n",
       " 'remind': 5693,\n",
       " 'me': 4395,\n",
       " 'few': 2806,\n",
       " 'hrs': 3521,\n",
       " 'forwarded': 2947,\n",
       " 'from': 3006,\n",
       " '88877': 704,\n",
       " 'free': 2968,\n",
       " 'entry': 2605,\n",
       " 'into': 3704,\n",
       " 'our': 5006,\n",
       " '250': 367,\n",
       " 'weekly': 7441,\n",
       " 'comp': 1921,\n",
       " 'just': 3862,\n",
       " 'word': 7589,\n",
       " 'enter': 2594,\n",
       " '18': 321,\n",
       " 'www': 7639,\n",
       " 'textcomp': 6793,\n",
       " 'com': 1901,\n",
       " 'tunde': 7081,\n",
       " 'how': 3508,\n",
       " 'are': 1045,\n",
       " 'you': 7703,\n",
       " 'doing': 2381,\n",
       " 'this': 6860,\n",
       " 'wishing': 7542,\n",
       " 'great': 3218,\n",
       " 'day': 2178,\n",
       " 'abiola': 753,\n",
       " 'much': 4632,\n",
       " 'she': 6078,\n",
       " 'payed': 5123,\n",
       " 'suganya': 6588,\n",
       " 'after': 851,\n",
       " 'work': 7591,\n",
       " 'ah': 869,\n",
       " 'den': 2237,\n",
       " 'plus': 5262,\n",
       " 'lor': 4194,\n",
       " 'workin': 7594,\n",
       " 'oso': 4997,\n",
       " 'rite': 5798,\n",
       " 'go': 3140,\n",
       " 'orchard': 4980,\n",
       " 'no': 4793,\n",
       " 'other': 4999,\n",
       " 'liao': 4082,\n",
       " 'seems': 5998,\n",
       " 'like': 4100,\n",
       " 'weird': 7447,\n",
       " 'timing': 6911,\n",
       " 'night': 4775,\n",
       " 'all': 908,\n",
       " 'and': 956,\n",
       " 'want': 7376,\n",
       " 'come': 1906,\n",
       " 'smoke': 6263,\n",
       " 'same': 5901,\n",
       " 'as': 1082,\n",
       " 'when': 7480,\n",
       " 'shitstorm': 6104,\n",
       " 'attributed': 1132,\n",
       " 'always': 928,\n",
       " 'coming': 1912,\n",
       " 'over': 5024,\n",
       " 'making': 4317,\n",
       " 'everyone': 2658,\n",
       " 'welcome': 7449,\n",
       " 'uk': 7127,\n",
       " 'mobile': 4537,\n",
       " 'date': 2171,\n",
       " 'msg': 4614,\n",
       " 'giving': 3129,\n",
       " 'calling': 1623,\n",
       " '08719839835': 153,\n",
       " 'future': 3039,\n",
       " 'mgs': 4457,\n",
       " 'billed': 1353,\n",
       " 'at': 1112,\n",
       " '150p': 306,\n",
       " 'daily': 2151,\n",
       " 'cancel': 1638,\n",
       " 'stop': 6499,\n",
       " '89123': 708,\n",
       " 'does': 2369,\n",
       " 'operate': 4959,\n",
       " 'lt': 4236,\n",
       " 'gt': 3242,\n",
       " 'what': 7473,\n",
       " 'yar': 7668,\n",
       " 'actually': 806,\n",
       " 'we': 7415,\n",
       " 'quite': 5531,\n",
       " 'fast': 2768,\n",
       " 'cos': 2022,\n",
       " 'da': 2143,\n",
       " 'ge': 3082,\n",
       " 'slow': 6240,\n",
       " 'wat': 7395,\n",
       " 'haha': 3278,\n",
       " '4mths': 525,\n",
       " 'half': 3285,\n",
       " 'price': 5404,\n",
       " 'orange': 4977,\n",
       " 'line': 4111,\n",
       " 'rental': 5707,\n",
       " 'latest': 4016,\n",
       " 'camera': 1631,\n",
       " 'phones': 5190,\n",
       " 'had': 3276,\n",
       " 'phone': 5186,\n",
       " '11mths': 277,\n",
       " 'call': 1610,\n",
       " 'mobilesdirect': 4539,\n",
       " '08000938767': 48,\n",
       " 'update': 7185,\n",
       " 'or2stoptxt': 4975,\n",
       " 'sunshine': 6613,\n",
       " 'hols': 3459,\n",
       " 'claim': 1822,\n",
       " 'ur': 7197,\n",
       " 'med': 4408,\n",
       " 'holiday': 3456,\n",
       " 'stamped': 6439,\n",
       " 'self': 6007,\n",
       " 'address': 814,\n",
       " 'envelope': 2609,\n",
       " 'drinks': 2438,\n",
       " 'us': 7210,\n",
       " 'po': 5266,\n",
       " 'box': 1453,\n",
       " '113': 271,\n",
       " 'bray': 1487,\n",
       " 'wicklow': 7507,\n",
       " 'eire': 2536,\n",
       " 'quiz': 5534,\n",
       " 'starts': 6455,\n",
       " 'saturday': 5926,\n",
       " 'unsub': 7175,\n",
       " 'still': 6487,\n",
       " 'have': 3339,\n",
       " 'checked': 1764,\n",
       " 'thanx': 6811,\n",
       " '2day': 383,\n",
       " 'goodmate': 3168,\n",
       " 'think': 6851,\n",
       " 'sary': 5916,\n",
       " 'asusual': 1111,\n",
       " 'cheered': 1769,\n",
       " 'up': 7181,\n",
       " 'love': 4214,\n",
       " 'franyxxxxx': 2962,\n",
       " 'sent': 6026,\n",
       " 'part': 5092,\n",
       " 'every': 2653,\n",
       " 'king': 3931,\n",
       " 'was': 7390,\n",
       " 'crying': 2096,\n",
       " 'baby': 1187,\n",
       " 'building': 1554,\n",
       " 'map': 4336,\n",
       " 'imprtant': 3626,\n",
       " 'where': 7484,\n",
       " 'today': 6948,\n",
       " 'but': 1578,\n",
       " 'wil': 7515,\n",
       " 'reach': 5587,\n",
       " 'tomorw': 6968,\n",
       " 'gud': 3247,\n",
       " 'ni8': 4766,\n",
       " 'later': 4015,\n",
       " 'thanks': 6806,\n",
       " 'message': 4446,\n",
       " 'appreciate': 1026,\n",
       " 'sacrifice': 5877,\n",
       " 'sure': 6630,\n",
       " 'of': 4890,\n",
       " 'process': 5435,\n",
       " 'direct': 2320,\n",
       " 'pay': 5121,\n",
       " 'will': 7518,\n",
       " 'find': 2840,\n",
       " 'out': 5009,\n",
       " 'way': 7410,\n",
       " 'back': 1192,\n",
       " 'test': 6782,\n",
       " 'class': 1830,\n",
       " 'wonderful': 7578,\n",
       " 'planning': 5237,\n",
       " 'usually': 7225,\n",
       " 'stops': 6505,\n",
       " 'hella': 3381,\n",
       " 'weed': 7436,\n",
       " 'if': 3587,\n",
       " 'drinkin': 2436,\n",
       " 'ok': 4916,\n",
       " 'pizza': 5225,\n",
       " 'lol': 4173,\n",
       " 'feeling': 2794,\n",
       " 'sick': 6156,\n",
       " 'grinder': 3227,\n",
       " 'can': 1635,\n",
       " 'look': 4182,\n",
       " 'lib': 4083,\n",
       " 'got': 3181,\n",
       " 'stuff': 6547,\n",
       " 'havent': 3341,\n",
       " 'finish': 2846,\n",
       " 'yet': 7691,\n",
       " 'means': 4401,\n",
       " 'lot': 4201,\n",
       " 'because': 1279,\n",
       " 'people': 5144,\n",
       " 'world': 7598,\n",
       " 'calls': 1625,\n",
       " 'them': 6828,\n",
       " 'friends': 2990,\n",
       " 'first': 2858,\n",
       " 'lar': 4005,\n",
       " 'then': 6832,\n",
       " 'stock': 6490,\n",
       " 'comin': 1911,\n",
       " 'decision': 2202,\n",
       " 'wanna': 7374,\n",
       " 'gym': 3269,\n",
       " 'gonna': 3162,\n",
       " 'head': 3350,\n",
       " 'usf': 7220,\n",
       " 'fifteen': 2816,\n",
       " 'minutes': 4491,\n",
       " 'im': 3601,\n",
       " 'inperialmusic': 3673,\n",
       " 'listening2the': 4135,\n",
       " 'weirdest': 7448,\n",
       " 'track': 7012,\n",
       " 'ever': 2652,\n",
       " 'by': 1594,\n",
       " 'leafcutter': 4041,\n",
       " 'john': 3824,\n",
       " 'sounds': 6346,\n",
       " 'insects': 3676,\n",
       " 'being': 1306,\n",
       " 'molested': 4555,\n",
       " 'someone': 6303,\n",
       " 'plumbing': 5260,\n",
       " 'remixed': 5698,\n",
       " 'evil': 2667,\n",
       " 'men': 4433,\n",
       " 'acid': 790,\n",
       " 'time': 6908,\n",
       " 'dhoni': 2276,\n",
       " 'rocks': 5809,\n",
       " 'thk': 6861,\n",
       " 'wan': 7371,\n",
       " 'eatin': 2501,\n",
       " 'wif': 7510,\n",
       " 'frens': 2979,\n",
       " 'lei': 4061,\n",
       " 'going': 3152,\n",
       " 'home': 3461,\n",
       " 'ask': 1091,\n",
       " 'her': 3397,\n",
       " 'say': 5934,\n",
       " 'any': 987,\n",
       " 'cool': 2008,\n",
       " 'fun': 3029,\n",
       " 'practicing': 5359,\n",
       " 'babies': 1186,\n",
       " 'talk': 6697,\n",
       " 'pa': 5045,\n",
       " 'am': 930,\n",
       " 'able': 755,\n",
       " 'dont': 2392,\n",
       " 'know': 3949,\n",
       " 'asking': 1095,\n",
       " 'knw': 3953,\n",
       " 'nt': 4844,\n",
       " 'may': 4386,\n",
       " 'frnds': 2998,\n",
       " 'classmates': 1833,\n",
       " 'fishrman': 2861,\n",
       " 'woke': 7569,\n",
       " 'early': 2487,\n",
       " 'mrng': 4611,\n",
       " 'very': 7270,\n",
       " 'dark': 2162,\n",
       " 'he': 3349,\n",
       " 'waited': 7352,\n",
       " 'while': 7491,\n",
       " 'amp': 945,\n",
       " 'found': 2949,\n",
       " 'sack': 5875,\n",
       " 'ful': 3024,\n",
       " 'stones': 6497,\n",
       " 'strtd': 6534,\n",
       " 'throwin': 6881,\n",
       " 'thm': 6863,\n",
       " 'in2': 3628,\n",
       " 'sea': 5973,\n",
       " 'pass': 5103,\n",
       " 'atlast': 1117,\n",
       " 'jus': 3861,\n",
       " '1stone': 337,\n",
       " 'sun': 6606,\n",
       " 'rose': 5825,\n",
       " 'tht': 6887,\n",
       " 'those': 6867,\n",
       " 'were': 7460,\n",
       " 'diamonds': 2283,\n",
       " 'moral': 4578,\n",
       " 'wake': 7355,\n",
       " 'see': 5991,\n",
       " 'letter': 4077,\n",
       " 'car': 1654,\n",
       " 'oh': 4911,\n",
       " 'friend': 2989,\n",
       " 'dog': 2373,\n",
       " 'customer': 2130,\n",
       " 'loyalty': 4230,\n",
       " 'offer': 4897,\n",
       " 'new': 4756,\n",
       " 'nokia6650': 4803,\n",
       " 'only': 4945,\n",
       " 'txtauction': 7104,\n",
       " 'txt': 7100,\n",
       " 'start': 6452,\n",
       " '81151': 654,\n",
       " 'get': 3099,\n",
       " 'yours': 7711,\n",
       " '4t': 527,\n",
       " 'ctxt': 2105,\n",
       " 'tc': 6726,\n",
       " 'mtmsg': 4626,\n",
       " 'has': 3327,\n",
       " 'asked': 1093,\n",
       " 'dating': 2173,\n",
       " 'service': 6036,\n",
       " 'contact': 1985,\n",
       " 'cant': 1646,\n",
       " 'guess': 3251,\n",
       " 'who': 7496,\n",
       " '09058091854': 173,\n",
       " 'revealed': 5767,\n",
       " 'box385': 1461,\n",
       " 'm6': 4271,\n",
       " '6wu': 611,\n",
       " 'unless': 7167,\n",
       " 'situation': 6199,\n",
       " 'gurl': 3263,\n",
       " 'would': 7612,\n",
       " 'more': 4579,\n",
       " 'appropriate': 1029,\n",
       " 'information': 3661,\n",
       " 'ikea': 3592,\n",
       " 'spelled': 6379,\n",
       " 'with': 7546,\n",
       " 'caps': 1651,\n",
       " 'yelling': 7681,\n",
       " 'thought': 6869,\n",
       " 'left': 4054,\n",
       " 'sitting': 6198,\n",
       " 'bed': 1284,\n",
       " 'among': 941,\n",
       " 'mess': 4445,\n",
       " 'came': 1630,\n",
       " 'said': 5885,\n",
       " 'don': 2389,\n",
       " 'try': 7063,\n",
       " 'bullshit': 1558,\n",
       " 'makes': 4314,\n",
       " 'listen': 4131,\n",
       " 'less': 4071,\n",
       " 'nope': 4812,\n",
       " 'drivin': 2441,\n",
       " 'neva': 4750,\n",
       " 'develop': 2265,\n",
       " 'photos': 5193,\n",
       " 'movie': 4603,\n",
       " '25': 366,\n",
       " 'overtime': 5030,\n",
       " 'nigpun': 4778,\n",
       " 'btw': 1540,\n",
       " 'regarding': 5666,\n",
       " 'should': 6125,\n",
       " 'anyone': 991,\n",
       " 'else': 2550,\n",
       " '4th': 528,\n",
       " 'guy': 3265,\n",
       " 'before': 1295,\n",
       " 'commit': 1917,\n",
       " 'random': 5562,\n",
       " 'dude': 2463,\n",
       " 'hav': 3336,\n",
       " 'frnd': 2997,\n",
       " 'name': 4685,\n",
       " 'ashwini': 1088,\n",
       " 'college': 1897,\n",
       " 'been': 1290,\n",
       " 'searching': 5975,\n",
       " 'right': 5783,\n",
       " 'words': 7590,\n",
       " 'thank': 6805,\n",
       " 'breather': 1497,\n",
       " 'promise': 5451,\n",
       " 'wont': 7581,\n",
       " 'take': 6691,\n",
       " 'help': 3385,\n",
       " 'granted': 3208,\n",
       " 'fulfil': 3025,\n",
       " 'blessing': 1389,\n",
       " 'times': 6909,\n",
       " 'sen': 6016,\n",
       " 'kind': 3928,\n",
       " 'advice': 835,\n",
       " 'here': 3398,\n",
       " 'sister': 6191,\n",
       " 'placed': 5228,\n",
       " 'birla': 1364,\n",
       " 'soft': 6289,\n",
       " 'bothering': 1446,\n",
       " 'trust': 7060,\n",
       " 'answers': 981,\n",
       " 'pls': 5257,\n",
       " 'mean': 4397,\n",
       " 'havin': 3343,\n",
       " 'credit': 2074,\n",
       " 'goin2bed': 3151,\n",
       " 'sweet': 6656,\n",
       " 'only1more': 4946,\n",
       " 'sleep': 6224,\n",
       " 'fuck': 3015,\n",
       " 'babe': 1184,\n",
       " 'miss': 4501,\n",
       " 'already': 919,\n",
       " 'let': 4075,\n",
       " 'some': 6299,\n",
       " 'money': 4563,\n",
       " 'towards': 7007,\n",
       " 'net': 4742,\n",
       " 'crave': 2066,\n",
       " 'two': 7098,\n",
       " 'cash': 1682,\n",
       " 'def': 2214,\n",
       " 'ready': 5597,\n",
       " 'says': 5938,\n",
       " 'never': 4752,\n",
       " 'answer': 978,\n",
       " 'texts': 6799,\n",
       " 'confirm': 1962,\n",
       " 'deny': 2238,\n",
       " 'private': 5419,\n",
       " '2003': 347,\n",
       " 'account': 784,\n",
       " 'statement': 6461,\n",
       " 'shows': 6140,\n",
       " '800': 639,\n",
       " 'un': 7136,\n",
       " 'redeemed': 5647,\n",
       " 'points': 5287,\n",
       " '08718738002': 146,\n",
       " 'identifier': 3581,\n",
       " 'code': 1880,\n",
       " '48922': 511,\n",
       " 'expires': 2706,\n",
       " '21': 354,\n",
       " '11': 269,\n",
       " '04': 14,\n",
       " 'secret': 5982,\n",
       " 'admirer': 821,\n",
       " 'looking': 4186,\n",
       " 'make': 4313,\n",
       " 'they': 6844,\n",
       " 'reveal': 5766,\n",
       " 'thinks': 6855,\n",
       " 'special': 6366,\n",
       " '09058094599': 181,\n",
       " 'its': 3750,\n",
       " 'liked': 4101,\n",
       " 'house': 3503,\n",
       " 'raviyog': 5574,\n",
       " 'peripherals': 5158,\n",
       " 'bhayandar': 1344,\n",
       " 'east': 2495,\n",
       " 'gain': 3048,\n",
       " 'rights': 5785,\n",
       " 'wife': 7511,\n",
       " 'demand': 2236,\n",
       " 'trying': 7065,\n",
       " 'husband': 3553,\n",
       " 'too': 6978,\n",
       " 'lets': 4076,\n",
       " 'rofl': 5811,\n",
       " 'true': 7056,\n",
       " 'noon': 4809,\n",
       " 'rencontre': 5702,\n",
       " 'meet': 4413,\n",
       " 'again': 857,\n",
       " 'mountains': 4597,\n",
       " 'well': 7451,\n",
       " 'without': 7550,\n",
       " 'could': 2033,\n",
       " 'big': 1348,\n",
       " 'sale': 5890,\n",
       " 'together': 6952,\n",
       " 'die': 2293,\n",
       " 'stuffs': 6550,\n",
       " 'join': 3825,\n",
       " 'horniest': 3484,\n",
       " 'dogging': 2376,\n",
       " 'sex': 6049,\n",
       " '2nite': 405,\n",
       " 'sign': 6162,\n",
       " 'follow': 2909,\n",
       " 'instructions': 3688,\n",
       " '69888': 596,\n",
       " 'nyt': 4868,\n",
       " 'ec2a': 2504,\n",
       " '3lp': 464,\n",
       " '26th': 373,\n",
       " 'july': 3855,\n",
       " 'happy': 3318,\n",
       " 'year': 7677,\n",
       " 'hope': 3475,\n",
       " 'having': 3344,\n",
       " 'semester': 6013,\n",
       " 'angry': 962,\n",
       " 'yourself': 7712,\n",
       " 'practice': 5358,\n",
       " 'real': 5598,\n",
       " 'none': 4808,\n",
       " 'nowhere': 4841,\n",
       " 'ikno': 3593,\n",
       " 'doesdiscount': 2370,\n",
       " 'shitinnit': 6102,\n",
       " 'doubt': 2410,\n",
       " 'handle': 3296,\n",
       " 'per': 5146,\n",
       " 'case': 1681,\n",
       " 'getting': 3107,\n",
       " 'cut': 2132,\n",
       " 'hair': 3282,\n",
       " 'paragon': 5079,\n",
       " 'called': 1617,\n",
       " 'sense': 6022,\n",
       " 'noe': 4797,\n",
       " 'dun': 2471,\n",
       " 'use': 7214,\n",
       " 'dial': 2279,\n",
       " 'juz': 3868,\n",
       " 'open': 4956,\n",
       " 'browser': 1531,\n",
       " 'surf': 6632,\n",
       " 'prabha': 5354,\n",
       " 'soryda': 6342,\n",
       " 'realy': 5608,\n",
       " 'frm': 2995,\n",
       " 'heart': 3365,\n",
       " 'sory': 6341,\n",
       " 'gotta': 3187,\n",
       " 'urself': 7209,\n",
       " 'shopping': 6114,\n",
       " 'present': 5388,\n",
       " 'stupid': 6552,\n",
       " 'sending': 6019,\n",
       " 'believe': 1307,\n",
       " 'pandy': 5064,\n",
       " 'mental': 4434,\n",
       " 'abt': 764,\n",
       " 'pics': 5203,\n",
       " 'bigger': 1349,\n",
       " 'somewhr': 6315,\n",
       " 'surely': 6631,\n",
       " 'made': 4290,\n",
       " 'god': 3145,\n",
       " 'decided': 2199,\n",
       " 'perfect': 5150,\n",
       " 'dat': 2170,\n",
       " 'person': 5162,\n",
       " 'till': 6906,\n",
       " 'enjoy': 2585,\n",
       " 'crushes': 2094,\n",
       " 'system': 6675,\n",
       " 'sh': 6057,\n",
       " 'also': 922,\n",
       " 'deep': 2210,\n",
       " 'eng': 2578,\n",
       " 'rocking': 5808,\n",
       " 'ashes': 1086,\n",
       " 'haf': 3277,\n",
       " 'combine': 1905,\n",
       " 'wonder': 7577,\n",
       " 'text': 6788,\n",
       " 'there': 6838,\n",
       " 'minor': 4486,\n",
       " 'shindig': 6091,\n",
       " 'tonight': 6974,\n",
       " 'interested': 3694,\n",
       " 'sms': 6269,\n",
       " 'services': 6037,\n",
       " 'inclusive': 3636,\n",
       " 'credits': 2076,\n",
       " 'goto': 3186,\n",
       " 'comuk': 1947,\n",
       " 'login': 4168,\n",
       " 'unsubscribe': 7176,\n",
       " 'extra': 2717,\n",
       " 'charge': 1740,\n",
       " '08700469649': 68,\n",
       " 'box420': 1464,\n",
       " 'ip4': 3719,\n",
       " '5we': 569,\n",
       " 'anything': 995,\n",
       " 'loxahatchee': 4229,\n",
       " 'xmas': 7648,\n",
       " 'tree': 7040,\n",
       " 'burning': 1568,\n",
       " 'totally': 7001,\n",
       " 'stars': 6450,\n",
       " 'alright': 920,\n",
       " 'omw': 4933,\n",
       " 'change': 1731,\n",
       " 'order': 4981,\n",
       " 'half8th': 3286,\n",
       " 'avatar': 1154,\n",
       " '3d': 458,\n",
       " 'imp': 3612,\n",
       " 'one': 4939,\n",
       " 'point': 5286,\n",
       " 'flies': 2881,\n",
       " 'room': 5820,\n",
       " 'almost': 916,\n",
       " 'tried': 7044,\n",
       " 'hittng': 3433,\n",
       " 'reflex': 5657,\n",
       " 'smsservices': 6272,\n",
       " 'yourinclusive': 7709,\n",
       " '3qxj9': 470,\n",
       " '08702840625': 77,\n",
       " '220': 358,\n",
       " 'cm2': 1865,\n",
       " '9ae': 732,\n",
       " 'length': 4064,\n",
       " 'top': 6987,\n",
       " 'shorter': 6120,\n",
       " 'fringe': 2994,\n",
       " 'lazy': 4032,\n",
       " 'distract': 2344,\n",
       " 'ic': 3570,\n",
       " 'meant': 4402,\n",
       " 'mary': 4355,\n",
       " 'jane': 3778,\n",
       " '2marrow': 395,\n",
       " 'hey': 3407,\n",
       " 'werethe': 7463,\n",
       " 'monkeespeople': 4564,\n",
       " 'monkeyaround': 4566,\n",
       " 'howdy': 3511,\n",
       " 'gorgeous': 3178,\n",
       " 'howu': 3514,\n",
       " 'doin': 2380,\n",
       " 'foundurself': 2950,\n",
       " 'jobyet': 3819,\n",
       " 'sausage': 5927,\n",
       " 'jen': 3798,\n",
       " 'xxx': 7655,\n",
       " 'tmr': 6937,\n",
       " 'bugis': 1552,\n",
       " '930': 724,\n",
       " 'lit': 4137,\n",
       " 'fire': 2852,\n",
       " 'care': 1659,\n",
       " 'each': 2483,\n",
       " 'close': 1849,\n",
       " 'understand': 7150,\n",
       " 'stay': 6464,\n",
       " 'forever': 2929,\n",
       " 'beyond': 1338,\n",
       " 'beautiful': 1275,\n",
       " 'necklace': 4723,\n",
       " 'token': 6956,\n",
       " 'thats': 6817,\n",
       " 'give': 3126,\n",
       " 'liking': 4105,\n",
       " 'wait': 7351,\n",
       " 'dinner': 2315,\n",
       " 'fine': 2843,\n",
       " 'hear': 3361,\n",
       " 'dear': 2189,\n",
       " 'yes': 7688,\n",
       " 'started': 6453,\n",
       " 'requests': 5723,\n",
       " 'pain': 5054,\n",
       " 'double': 2407,\n",
       " 'coins': 1886,\n",
       " 'factory': 2731,\n",
       " 'nitros': 4789,\n",
       " 'tell': 6753,\n",
       " 'drug': 2450,\n",
       " 'dealer': 2186,\n",
       " 'impatient': 3613,\n",
       " 'mallika': 4322,\n",
       " 'sherawat': 6085,\n",
       " 'did': 2288,\n",
       " 'yesterday': 7690,\n",
       " 'url': 7207,\n",
       " 'write': 7622,\n",
       " 'ccna': 1702,\n",
       " 'exam': 2680,\n",
       " 'week': 7437,\n",
       " 'using': 7222,\n",
       " 'connections': 1974,\n",
       " 'mode': 4547,\n",
       " 'why': 7504,\n",
       " 'old': 4928,\n",
       " 'lead': 4038,\n",
       " 'shy': 6151,\n",
       " '09058091870': 174,\n",
       " 'pobox84': 5279,\n",
       " 'm26': 4268,\n",
       " '3uz': 473,\n",
       " 'nothing': 4831,\n",
       " 'congratulation': 1969,\n",
       " 'stomach': 6493,\n",
       " 'urgent': 7201,\n",
       " 'awarded': 1167,\n",
       " '000': 1,\n",
       " 'bonus': 1423,\n",
       " 'caller': 1618,\n",
       " 'prize': 5422,\n",
       " '02': 7,\n",
       " '09': 156,\n",
       " '03': 13,\n",
       " '2nd': 403,\n",
       " 'attempt': 1123,\n",
       " '0871': 90,\n",
       " '872': 694,\n",
       " '9755': 728,\n",
       " 'box95qu': 1468,\n",
       " 'hospital': 3489,\n",
       " 'return': 5761,\n",
       " 'evening': 2649,\n",
       " 'sometimes': 6311,\n",
       " 'gentle': 3094,\n",
       " 'sonetimes': 6319,\n",
       " 'rough': 5826,\n",
       " 'hard': 3319,\n",
       " '500': 537,\n",
       " 'mobiles': 4538,\n",
       " '2004': 348,\n",
       " 'must': 4658,\n",
       " 'nokia': 4802,\n",
       " '89545': 709,\n",
       " 'collect': 1893,\n",
       " 'biz': 1375,\n",
       " '2optout': 406,\n",
       " '087187262701': 136,\n",
       " '50gbp': 542,\n",
       " 'mtmsg18': 4627,\n",
       " 'na': 4675,\n",
       " 'torch': 6993,\n",
       " 'bold': 1417,\n",
       " 'waiting': 7354,\n",
       " 'hi': 3410,\n",
       " 'lucy': 4245,\n",
       " 'hubby': 3527,\n",
       " 'meetins': 4416,\n",
       " 'fri': 2984,\n",
       " 'alone': 917,\n",
       " 'hotel': 3495,\n",
       " 'fancy': 2758,\n",
       " 'cumin': 2116,\n",
       " 'leave': 4048,\n",
       " '09099726395': 248,\n",
       " 'minmobsmorelkpobox177hp51fl': 4483,\n",
       " 'unnecessarily': 7170,\n",
       " 'hostile': 3493,\n",
       " 'draw': 2427,\n",
       " 'takes': 6693,\n",
       " '28th': 377,\n",
       " 'feb': 2787,\n",
       " '06': 19,\n",
       " 'removal': 5699,\n",
       " '87239': 695,\n",
       " '08708034412': 87,\n",
       " 'coughing': 2032,\n",
       " 'shall': 6067,\n",
       " 'pickle': 5202,\n",
       " '2000': 346,\n",
       " 'final': 2835,\n",
       " 'landline': 3995,\n",
       " '09064019788': 216,\n",
       " 'box42wr29c': 1465,\n",
       " '150ppm': 310,\n",
       " 'kallis': 3879,\n",
       " 'bat': 1239,\n",
       " 'innings': 3670,\n",
       " 'common': 1918,\n",
       " 'hearin': 3363,\n",
       " 'something': 6309,\n",
       " 'different': 2301,\n",
       " 'smile': 6258,\n",
       " 'evng': 2669,\n",
       " 'forgiveness': 2935,\n",
       " 'little': 4139,\n",
       " 'child': 1788,\n",
       " 'gave': 3073,\n",
       " 'lovely': 4217,\n",
       " 'reply': 5718,\n",
       " 'fruit': 3011,\n",
       " 'gives': 3128,\n",
       " 'hurt': 3550,\n",
       " 'stone': 6495,\n",
       " '0a': 253,\n",
       " 'networks': 4749,\n",
       " 'allow': 913,\n",
       " 'companies': 1922,\n",
       " 'bill': 1352,\n",
       " 'responsible': 5747,\n",
       " 'their': 6825,\n",
       " 'suppliers': 6620,\n",
       " 'shop': 6112,\n",
       " 'guarantee': 3244,\n",
       " 'sell': 6009,\n",
       " 'styles': 6554,\n",
       " 'shant': 6071,\n",
       " 'disturb': 2345,\n",
       " 'anymore': 990,\n",
       " 'jia': 3811,\n",
       " 'replying': 5719,\n",
       " 'boye': 1471,\n",
       " 'changed': 1732,\n",
       " 'his': 3426,\n",
       " 'number': 4853,\n",
       " 'fb': 2784,\n",
       " 'list': 4129,\n",
       " 'costa': 2024,\n",
       " 'del': 2224,\n",
       " 'sol': 6293,\n",
       " '5000': 538,\n",
       " 'await': 1163,\n",
       " 'collection': 1896,\n",
       " '09050090044': 168,\n",
       " 'toclaim': 6947,\n",
       " 'sae': 5879,\n",
       " 'pobox334': 5274,\n",
       " 'stockport': 6491,\n",
       " 'sk38xh': 6206,\n",
       " 'cost': 2023,\n",
       " '50': 536,\n",
       " 'pm': 5264,\n",
       " 'max10mins': 4382,\n",
       " 'monthly': 4573,\n",
       " 'password': 5108,\n",
       " 'wap': 7381,\n",
       " 'mobsi': 4543,\n",
       " '391784': 456,\n",
       " 'pc': 5129,\n",
       " 'difference': 2299,\n",
       " 'versus': 7269,\n",
       " 'dismay': 2341,\n",
       " 'many': 4335,\n",
       " 'cherthala': 1777,\n",
       " 'cochin': 1877,\n",
       " 'bfore': 1341,\n",
       " 'accordingly': 783,\n",
       " 'which': 7490,\n",
       " 'tmorow': 6935,\n",
       " 'engaged': 2579,\n",
       " 'ans': 976,\n",
       " 'vl': 7310,\n",
       " 'adsense': 829,\n",
       " 'approved': 1031,\n",
       " 'mins': 4487,\n",
       " 'linerental': 4114,\n",
       " 'bluetooth': 1405,\n",
       " 'mobileupd8': 4541,\n",
       " 'offers': 4900,\n",
       " '08000839402': 46,\n",
       " 'call2optout': 1612,\n",
       " 'lf56': 4080,\n",
       " 'job': 3817,\n",
       " 'days': 2179,\n",
       " 'potential': 5339,\n",
       " 'talent': 6696,\n",
       " 'problem': 5429,\n",
       " 'spending': 6382,\n",
       " 'quality': 5519,\n",
       " 'sleeping': 6226,\n",
       " 'surfing': 6633,\n",
       " 'nice': 4768,\n",
       " 'dearly': 2192,\n",
       " 'financial': 2839,\n",
       " 'awww': 1172,\n",
       " 'ill': 3597,\n",
       " 'probably': 5428,\n",
       " 'lonely': 4177,\n",
       " 'happens': 3313,\n",
       " '2waxsto': 417,\n",
       " 'medical': 4409,\n",
       " 'insurance': 3689,\n",
       " 'deliver': 2230,\n",
       " 'basic': 1236,\n",
       " 'currently': 2124,\n",
       " 'til': 6905,\n",
       " 'friday': 2985,\n",
       " 'morning': 4583,\n",
       " 'major': 4312,\n",
       " 'guide': 3257,\n",
       " 'excellent': 2682,\n",
       " 'moan': 4534,\n",
       " 'scream': 5964,\n",
       " 'ecstasy': 2508,\n",
       " 'hmm': 3440,\n",
       " 'uncle': 7141,\n",
       " 'informed': 3662,\n",
       " 'paying': 5124,\n",
       " 'school': 5948,\n",
       " 'directly': 2321,\n",
       " 'buy': 1583,\n",
       " 'food': 2917,\n",
       " 'grasp': 3210,\n",
       " 'pretty': 5398,\n",
       " 'booty': 1433,\n",
       " 'fuuuuck': 3040,\n",
       " 'sleepin': 6225,\n",
       " 'sup': 6615,\n",
       " 'awake': 1165,\n",
       " 'congratulations': 1970,\n",
       " 'cd': 1703,\n",
       " 'vouchers': 7325,\n",
       " '125gift': 286,\n",
       " 'guaranteed': 3245,\n",
       " '100': 255,\n",
       " ...}"
      ]
     },
     "execution_count": 20,
     "metadata": {},
     "output_type": "execute_result"
    }
   ],
   "source": [
    "cv.vocabulary_"
   ]
  },
  {
   "cell_type": "code",
   "execution_count": 21,
   "metadata": {},
   "outputs": [
    {
     "data": {
      "text/plain": [
       "'that'"
      ]
     },
     "execution_count": 21,
     "metadata": {},
     "output_type": "execute_result"
    }
   ],
   "source": [
    "cv.get_feature_names()[6814]"
   ]
  },
  {
   "cell_type": "code",
   "execution_count": 22,
   "metadata": {},
   "outputs": [
    {
     "data": {
      "text/plain": [
       "array([0, 0, 0, ..., 0, 0, 0], dtype=int64)"
      ]
     },
     "execution_count": 22,
     "metadata": {},
     "output_type": "execute_result"
    }
   ],
   "source": [
    "X_train_np = X_train_cv.toarray()\n",
    "X_train_np[0]"
   ]
  },
  {
   "cell_type": "code",
   "execution_count": 23,
   "metadata": {},
   "outputs": [
    {
     "data": {
      "text/plain": [
       "(array([1292, 1484, 2275, 3120, 3967, 5854, 5957, 6069, 7232, 7313, 7528,\n",
       "        7544, 7669], dtype=int64),)"
      ]
     },
     "execution_count": 23,
     "metadata": {},
     "output_type": "execute_result"
    }
   ],
   "source": [
    "np.where(X_train_np[0]!= 0)"
   ]
  },
  {
   "cell_type": "code",
   "execution_count": 25,
   "metadata": {},
   "outputs": [
    {
     "data": {
      "text/plain": [
       "\"Sorry i've not gone to that place. I.ll do so tomorrow. Really sorry.\""
      ]
     },
     "execution_count": 25,
     "metadata": {},
     "output_type": "execute_result"
    }
   ],
   "source": [
    "X_train[:5][3370]"
   ]
  },
  {
   "cell_type": "code",
   "execution_count": 26,
   "metadata": {},
   "outputs": [
    {
     "data": {
      "text/plain": [
       "0"
      ]
     },
     "execution_count": 26,
     "metadata": {},
     "output_type": "execute_result"
    }
   ],
   "source": [
    "X_train_np[0][6170]"
   ]
  },
  {
   "cell_type": "markdown",
   "metadata": {},
   "source": [
    "Naive Bayes"
   ]
  },
  {
   "cell_type": "code",
   "execution_count": 27,
   "metadata": {},
   "outputs": [],
   "source": [
    "from sklearn.naive_bayes import MultinomialNB\n",
    "\n",
    "model = MultinomialNB()"
   ]
  },
  {
   "cell_type": "code",
   "execution_count": 28,
   "metadata": {},
   "outputs": [
    {
     "data": {
      "text/plain": [
       "MultinomialNB()"
      ]
     },
     "execution_count": 28,
     "metadata": {},
     "output_type": "execute_result"
    }
   ],
   "source": [
    "model.fit(X_train_cv, y_train)"
   ]
  },
  {
   "cell_type": "code",
   "execution_count": 29,
   "metadata": {},
   "outputs": [],
   "source": [
    "X_test_cv = cv.transform(X_test)"
   ]
  },
  {
   "cell_type": "code",
   "execution_count": 30,
   "metadata": {},
   "outputs": [],
   "source": [
    "y_pred = model.predict(X_test_cv)"
   ]
  },
  {
   "cell_type": "code",
   "execution_count": 31,
   "metadata": {},
   "outputs": [
    {
     "name": "stdout",
     "output_type": "stream",
     "text": [
      "              precision    recall  f1-score   support\n",
      "\n",
      "           0       0.99      1.00      0.99       962\n",
      "           1       0.98      0.92      0.95       153\n",
      "\n",
      "    accuracy                           0.99      1115\n",
      "   macro avg       0.98      0.96      0.97      1115\n",
      "weighted avg       0.99      0.99      0.99      1115\n",
      "\n"
     ]
    }
   ],
   "source": [
    "print(classification_report(y_test, y_pred))"
   ]
  },
  {
   "cell_type": "code",
   "execution_count": 32,
   "metadata": {},
   "outputs": [
    {
     "data": {
      "text/plain": [
       "array([0], dtype=int64)"
      ]
     },
     "execution_count": 32,
     "metadata": {},
     "output_type": "execute_result"
    }
   ],
   "source": [
    "emails = [\n",
    "    \"How's it going? Got any exciting karaoke type activities planned? I'm debating whether to play football this eve. Feeling lazy though.\"\n",
    "]\n",
    "\n",
    "emails_count = cv.transform(emails)\n",
    "model.predict(emails_count)"
   ]
  },
  {
   "cell_type": "code",
   "execution_count": 33,
   "metadata": {},
   "outputs": [],
   "source": [
    "#using sklearn pipeline and reduce number of lines of code\n",
    "\n",
    "from sklearn.pipeline import Pipeline\n",
    "\n",
    "clf = Pipeline([\n",
    "    (\"vectorizer\", CountVectorizer()),\n",
    "    (\"nb\", MultinomialNB())\n",
    "])"
   ]
  },
  {
   "cell_type": "code",
   "execution_count": 34,
   "metadata": {},
   "outputs": [
    {
     "data": {
      "text/plain": [
       "Pipeline(steps=[('vectorizer', CountVectorizer()), ('nb', MultinomialNB())])"
      ]
     },
     "execution_count": 34,
     "metadata": {},
     "output_type": "execute_result"
    }
   ],
   "source": [
    "clf.fit(X_train, y_train)"
   ]
  },
  {
   "cell_type": "code",
   "execution_count": 35,
   "metadata": {},
   "outputs": [
    {
     "name": "stdout",
     "output_type": "stream",
     "text": [
      "              precision    recall  f1-score   support\n",
      "\n",
      "           0       0.99      1.00      0.99       962\n",
      "           1       0.98      0.92      0.95       153\n",
      "\n",
      "    accuracy                           0.99      1115\n",
      "   macro avg       0.98      0.96      0.97      1115\n",
      "weighted avg       0.99      0.99      0.99      1115\n",
      "\n"
     ]
    }
   ],
   "source": [
    "y_pred = clf.predict(X_test)\n",
    "\n",
    "print(classification_report(y_test, y_pred))"
   ]
  },
  {
   "cell_type": "code",
   "execution_count": null,
   "metadata": {},
   "outputs": [],
   "source": []
  },
  {
   "cell_type": "code",
   "execution_count": null,
   "metadata": {},
   "outputs": [],
   "source": []
  },
  {
   "cell_type": "markdown",
   "metadata": {},
   "source": [
    "Exercises"
   ]
  },
  {
   "cell_type": "markdown",
   "metadata": {},
   "source": [
    "1. read the data provided in the same directory with name 'movies_sentiment_data.csv' and store it in df variable\n",
    "2. print the shape of the data\n",
    "3. print top 5 datapoints\n",
    "\n",
    "#creating a new column \"Category\" which represent 1 if the sentiment is positive or 0 if it is negative.\n",
    "#check the distribution of 'Category' and see whether the Target labels are balanced or not.\n",
    "#Do the 'train-test' splitting with test size of 20%"
   ]
  },
  {
   "cell_type": "markdown",
   "metadata": {},
   "source": [
    "Exercise 1"
   ]
  },
  {
   "cell_type": "markdown",
   "metadata": {},
   "source": [
    "Using sklearn pipeline module create a classification pipeline to classify the movie review's positive or negative.\n",
    "\n",
    "*use CountVectorizer for pre-processing the text.\n",
    "\n",
    "*use Random Forest as the classifier with estimators as 50 and criterion as entropy.\n",
    "\n",
    "*print the classification report.\n",
    "\n",
    "1. create a pipeline object\n",
    "2. fit with X_train and y_train\n",
    "3. get the predictions for X_test and store it in y_pred\n",
    "4. print the classfication report"
   ]
  },
  {
   "cell_type": "markdown",
   "metadata": {},
   "source": [
    "Solution1"
   ]
  },
  {
   "cell_type": "code",
   "execution_count": 36,
   "metadata": {},
   "outputs": [],
   "source": [
    "#import necessary libraries\n",
    "\n",
    "import pandas as pd\n",
    "import numpy as np\n",
    "from sklearn.model_selection import train_test_split\n",
    "from sklearn.feature_extraction.text import CountVectorizer\n",
    "from sklearn.ensemble import RandomForestClassifier\n",
    "from  sklearn.neighbors import KNeighborsClassifier\n",
    "from sklearn.naive_bayes import MultinomialNB\n",
    "from sklearn.pipeline import Pipeline\n",
    "from sklearn.metrics import classification_report"
   ]
  },
  {
   "cell_type": "code",
   "execution_count": 37,
   "metadata": {},
   "outputs": [],
   "source": [
    "#1. read the data provided in the same directory with name 'movies_sentiment_data.csv' and store it in df variable\n",
    "df = pd.read_csv(\"movies_sentiment_data.csv\")"
   ]
  },
  {
   "cell_type": "code",
   "execution_count": 38,
   "metadata": {},
   "outputs": [
    {
     "name": "stdout",
     "output_type": "stream",
     "text": [
      "(50000, 2)\n"
     ]
    }
   ],
   "source": [
    "#2. print the shape of the data\n",
    "print(df.shape)"
   ]
  },
  {
   "cell_type": "code",
   "execution_count": 39,
   "metadata": {},
   "outputs": [
    {
     "data": {
      "text/html": [
       "<div>\n",
       "<style scoped>\n",
       "    .dataframe tbody tr th:only-of-type {\n",
       "        vertical-align: middle;\n",
       "    }\n",
       "\n",
       "    .dataframe tbody tr th {\n",
       "        vertical-align: top;\n",
       "    }\n",
       "\n",
       "    .dataframe thead th {\n",
       "        text-align: right;\n",
       "    }\n",
       "</style>\n",
       "<table border=\"1\" class=\"dataframe\">\n",
       "  <thead>\n",
       "    <tr style=\"text-align: right;\">\n",
       "      <th></th>\n",
       "      <th>review</th>\n",
       "      <th>sentiment</th>\n",
       "    </tr>\n",
       "  </thead>\n",
       "  <tbody>\n",
       "    <tr>\n",
       "      <th>0</th>\n",
       "      <td>One of the other reviewers has mentioned that ...</td>\n",
       "      <td>positive</td>\n",
       "    </tr>\n",
       "    <tr>\n",
       "      <th>1</th>\n",
       "      <td>A wonderful little production. &lt;br /&gt;&lt;br /&gt;The...</td>\n",
       "      <td>positive</td>\n",
       "    </tr>\n",
       "    <tr>\n",
       "      <th>2</th>\n",
       "      <td>I thought this was a wonderful way to spend ti...</td>\n",
       "      <td>positive</td>\n",
       "    </tr>\n",
       "    <tr>\n",
       "      <th>3</th>\n",
       "      <td>Basically there's a family where a little boy ...</td>\n",
       "      <td>negative</td>\n",
       "    </tr>\n",
       "    <tr>\n",
       "      <th>4</th>\n",
       "      <td>Petter Mattei's \"Love in the Time of Money\" is...</td>\n",
       "      <td>positive</td>\n",
       "    </tr>\n",
       "  </tbody>\n",
       "</table>\n",
       "</div>"
      ],
      "text/plain": [
       "                                              review sentiment\n",
       "0  One of the other reviewers has mentioned that ...  positive\n",
       "1  A wonderful little production. <br /><br />The...  positive\n",
       "2  I thought this was a wonderful way to spend ti...  positive\n",
       "3  Basically there's a family where a little boy ...  negative\n",
       "4  Petter Mattei's \"Love in the Time of Money\" is...  positive"
      ]
     },
     "execution_count": 39,
     "metadata": {},
     "output_type": "execute_result"
    }
   ],
   "source": [
    "#3. print top 5 datapoints\n",
    "df.head()"
   ]
  },
  {
   "cell_type": "code",
   "execution_count": 40,
   "metadata": {},
   "outputs": [],
   "source": [
    "#creating a new column \"Category\" which represent 1 if the sentiment is positive or 0 if it is negative\n",
    "df[\"Category\"] = df[\"sentiment\"].apply(lambda x: 1 if x == \"positive\" else 0)"
   ]
  },
  {
   "cell_type": "code",
   "execution_count": 41,
   "metadata": {},
   "outputs": [
    {
     "data": {
      "text/plain": [
       "1    25000\n",
       "0    25000\n",
       "Name: Category, dtype: int64"
      ]
     },
     "execution_count": 41,
     "metadata": {},
     "output_type": "execute_result"
    }
   ],
   "source": [
    "#check the distribution of 'Category' and see whether the Target labels are balanced or not.\n",
    "df[\"Category\"].value_counts()"
   ]
  },
  {
   "cell_type": "code",
   "execution_count": 42,
   "metadata": {},
   "outputs": [],
   "source": [
    "#Do the 'train-test' splitting with test size of 20%\n",
    "X_train, X_test, y_train, y_test = train_test_split(df.review, df.Category, test_size = 0.2)"
   ]
  },
  {
   "cell_type": "markdown",
   "metadata": {},
   "source": [
    "Solution Exercise 1"
   ]
  },
  {
   "cell_type": "code",
   "execution_count": 43,
   "metadata": {},
   "outputs": [],
   "source": [
    "#1. create a pipeline object\n",
    "\n",
    "clf = Pipeline([\n",
    "    (\"vectorizer\", CountVectorizer()), #initializing the vectorizer\n",
    "    (\"random_forest\", (RandomForestClassifier(n_estimators = 50, criterion = \"entropy\"))) #using the RandomForest classifier\n",
    "])"
   ]
  },
  {
   "cell_type": "code",
   "execution_count": 44,
   "metadata": {},
   "outputs": [
    {
     "data": {
      "text/plain": [
       "Pipeline(steps=[('vectorizer', CountVectorizer()),\n",
       "                ('random_forest',\n",
       "                 RandomForestClassifier(criterion='entropy', n_estimators=50))])"
      ]
     },
     "execution_count": 44,
     "metadata": {},
     "output_type": "execute_result"
    }
   ],
   "source": [
    "#2. fit with X_train and y_train\n",
    "clf.fit(X_train, y_train)"
   ]
  },
  {
   "cell_type": "code",
   "execution_count": 45,
   "metadata": {},
   "outputs": [],
   "source": [
    "#3. get the predictions for X_test and store it in y_pred\n",
    "y_pred = clf.predict(X_test)"
   ]
  },
  {
   "cell_type": "code",
   "execution_count": 46,
   "metadata": {},
   "outputs": [
    {
     "name": "stdout",
     "output_type": "stream",
     "text": [
      "              precision    recall  f1-score   support\n",
      "\n",
      "           0       0.84      0.84      0.84      5023\n",
      "           1       0.84      0.84      0.84      4977\n",
      "\n",
      "    accuracy                           0.84     10000\n",
      "   macro avg       0.84      0.84      0.84     10000\n",
      "weighted avg       0.84      0.84      0.84     10000\n",
      "\n"
     ]
    }
   ],
   "source": [
    "#4. print the classfication report\n",
    "print(classification_report(y_test, y_pred))"
   ]
  },
  {
   "cell_type": "code",
   "execution_count": null,
   "metadata": {},
   "outputs": [],
   "source": []
  },
  {
   "cell_type": "code",
   "execution_count": null,
   "metadata": {},
   "outputs": [],
   "source": []
  },
  {
   "cell_type": "markdown",
   "metadata": {},
   "source": [
    "Exercise 2"
   ]
  },
  {
   "cell_type": "markdown",
   "metadata": {},
   "source": [
    "Using sklearn pipeline module create a classification pipeline to classify the movie review's positive or negative..\n",
    "Note:\n",
    "\n",
    "*use CountVectorizer for pre-processing the text.\n",
    "\n",
    "*use KNN as the classifier with n_neighbors of 10 and metric as 'euclidean'.\n",
    "\n",
    "*print the classification report.\n",
    "\n",
    "1. create a pipeline object\n",
    "2. fit with X_train and y_train\n",
    "3. get the predictions for X_test and store it in y_pred\n",
    "4. print the classfication report"
   ]
  },
  {
   "cell_type": "markdown",
   "metadata": {},
   "source": [
    "Solution Exercise 2"
   ]
  },
  {
   "cell_type": "code",
   "execution_count": 47,
   "metadata": {},
   "outputs": [],
   "source": [
    "#1. create a pipeline object\n",
    "clf = Pipeline([\n",
    "            (\"vectorizer\", CountVectorizer()),   \n",
    "            (\"KNN\", (KNeighborsClassifier(n_neighbors = 10, metric = \"euclidean\")))   #using the KNN classifier with 10 neighbors \n",
    "])"
   ]
  },
  {
   "cell_type": "code",
   "execution_count": 48,
   "metadata": {},
   "outputs": [
    {
     "data": {
      "text/plain": [
       "Pipeline(steps=[('vectorizer', CountVectorizer()),\n",
       "                ('KNN',\n",
       "                 KNeighborsClassifier(metric='euclidean', n_neighbors=10))])"
      ]
     },
     "execution_count": 48,
     "metadata": {},
     "output_type": "execute_result"
    }
   ],
   "source": [
    "#2. fit with X_train and y_train\n",
    "clf.fit(X_train, y_train)"
   ]
  },
  {
   "cell_type": "code",
   "execution_count": 49,
   "metadata": {},
   "outputs": [],
   "source": [
    "#3. get the predictions for X_test and store it in y_pred\n",
    "y_pred = clf.predict(X_test)"
   ]
  },
  {
   "cell_type": "code",
   "execution_count": 50,
   "metadata": {},
   "outputs": [
    {
     "name": "stdout",
     "output_type": "stream",
     "text": [
      "              precision    recall  f1-score   support\n",
      "\n",
      "           0       0.67      0.65      0.66      5023\n",
      "           1       0.66      0.68      0.67      4977\n",
      "\n",
      "    accuracy                           0.66     10000\n",
      "   macro avg       0.66      0.66      0.66     10000\n",
      "weighted avg       0.66      0.66      0.66     10000\n",
      "\n"
     ]
    }
   ],
   "source": [
    "#4. print the classfication report\n",
    "print(classification_report(y_test, y_pred))"
   ]
  },
  {
   "cell_type": "code",
   "execution_count": null,
   "metadata": {},
   "outputs": [],
   "source": []
  },
  {
   "cell_type": "code",
   "execution_count": null,
   "metadata": {},
   "outputs": [],
   "source": []
  },
  {
   "cell_type": "markdown",
   "metadata": {},
   "source": [
    "Exercise 3"
   ]
  },
  {
   "cell_type": "markdown",
   "metadata": {},
   "source": [
    "Using sklearn pipeline module create a classification pipeline to classify the movie review's positive or negative..\n",
    "Note:\n",
    "\n",
    "*use CountVectorizer for pre-processing the text.\n",
    "\n",
    "*use Multinomial Naive Bayes as the classifier.\n",
    "\n",
    "*print the classification report.\n",
    "\n",
    "1. create a pipeline object\n",
    "2. fit with X_train and y_train\n",
    "3. get the predictions for X_test and store it in y_pred\n",
    "4. print the classfication report"
   ]
  },
  {
   "cell_type": "markdown",
   "metadata": {},
   "source": [
    "Solution Exercise 3"
   ]
  },
  {
   "cell_type": "code",
   "execution_count": 51,
   "metadata": {},
   "outputs": [],
   "source": [
    "#1. create a pipeline object\n",
    "clf = Pipeline([\n",
    "            (\"vectorizer\", CountVectorizer()),   \n",
    "            (\"Multi NB\", MultinomialNB())   #using the Multinomial Naive Bayes classifier \n",
    "])"
   ]
  },
  {
   "cell_type": "code",
   "execution_count": 52,
   "metadata": {},
   "outputs": [
    {
     "data": {
      "text/plain": [
       "Pipeline(steps=[('vectorizer', CountVectorizer()),\n",
       "                ('Multi NB', MultinomialNB())])"
      ]
     },
     "execution_count": 52,
     "metadata": {},
     "output_type": "execute_result"
    }
   ],
   "source": [
    "#2. fit with X_train and y_train\n",
    "clf.fit(X_train, y_train)"
   ]
  },
  {
   "cell_type": "code",
   "execution_count": 53,
   "metadata": {},
   "outputs": [],
   "source": [
    "#3. get the predictions for X_test and store it in y_pred\n",
    "y_pred = clf.predict(X_test)"
   ]
  },
  {
   "cell_type": "code",
   "execution_count": 54,
   "metadata": {},
   "outputs": [
    {
     "name": "stdout",
     "output_type": "stream",
     "text": [
      "              precision    recall  f1-score   support\n",
      "\n",
      "           0       0.83      0.87      0.85      5023\n",
      "           1       0.86      0.83      0.84      4977\n",
      "\n",
      "    accuracy                           0.85     10000\n",
      "   macro avg       0.85      0.85      0.85     10000\n",
      "weighted avg       0.85      0.85      0.85     10000\n",
      "\n"
     ]
    }
   ],
   "source": [
    "#4. print the classfication report\n",
    "print(classification_report(y_test, y_pred))"
   ]
  },
  {
   "cell_type": "code",
   "execution_count": null,
   "metadata": {},
   "outputs": [],
   "source": []
  }
 ],
 "metadata": {
  "kernelspec": {
   "display_name": "Python 3",
   "language": "python",
   "name": "python3"
  },
  "language_info": {
   "codemirror_mode": {
    "name": "ipython",
    "version": 3
   },
   "file_extension": ".py",
   "mimetype": "text/x-python",
   "name": "python",
   "nbconvert_exporter": "python",
   "pygments_lexer": "ipython3",
   "version": "3.8.3"
  }
 },
 "nbformat": 4,
 "nbformat_minor": 4
}
